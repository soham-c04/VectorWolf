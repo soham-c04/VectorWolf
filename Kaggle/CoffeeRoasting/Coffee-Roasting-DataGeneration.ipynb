{
 "cells": [
  {
   "cell_type": "markdown",
   "id": "2db985ac-297f-4297-b2d1-c6702710afe7",
   "metadata": {
    "jp-MarkdownHeadingCollapsed": true
   },
   "source": [
    "# Coffee Roasting Deep Learning Model\n",
    "\n",
    "The Coffee Roasting Deep Learning Model project aims to revolutionize the traditional coffee roasting process using advanced machine learning techniques. Coffee roasting is a critical stage in coffee production, where precise control over temperature and time significantly impacts the flavor and quality of the final product. Traditional methods rely heavily on the experience and intuition of the roaster, making it challenging to achieve consistent results.\n",
    "\n",
    "This project leverages deep learning to create a model that can predict the optimal roasting profile for different types of coffee beans. By analyzing historical roasting data, including temperature curves, roast duration, and bean characteristics, the model can learn patterns and make precise predictions.\n",
    "\n",
    "The process begins with data collection, where various parameters from previous roasting sessions are gathered. Next, the data is normalized to ensure uniformity, and data augmentation techniques are applied to expand the dataset, enhancing the model's learning capabilities. The core of the project involves building a neural network, specifically designed for coffee roasting, with multiple layers and activation functions to capture complex patterns in the data.\n",
    "\n",
    "After training the model using a portion of the dataset, it is validated and tested to ensure accuracy and reliability. Once trained, the model can be deployed to provide real-time recommendations for adjusting roasting parameters, thereby improving consistency and quality.\n",
    "\n",
    "This innovative approach not only automates the coffee roasting process but also allows for greater experimentation and optimization, leading to superior coffee quality. By integrating deep learning, this project aims to set new standards in the coffee industry, ensuring every cup delivers the best possible flavor.\n",
    "\n",
    "<div style=\"text-align: center;\">\n",
    "    <img src=\"images/Coffe.jpg\" style=\"width:650px;height:550px;\">\n",
    "</div>\n"
   ]
  },
  {
   "cell_type": "markdown",
   "id": "f9b4ff3b-6391-485f-9988-5195e2c166e1",
   "metadata": {
    "jp-MarkdownHeadingCollapsed": true
   },
   "source": [
    "# 1. Import Packages"
   ]
  },
  {
   "cell_type": "markdown",
   "id": "e2a371a2-8e0e-4184-8361-65c40769ada9",
   "metadata": {},
   "source": [
    "Install all packages that we need."
   ]
  },
  {
   "cell_type": "code",
   "execution_count": 31,
   "id": "064ae955-01d5-47fb-8b98-bd03fd91e545",
   "metadata": {
    "scrolled": true
   },
   "outputs": [],
   "source": [
    "# !pip install ipywidgets matplotlib numpy tensorflow"
   ]
  },
  {
   "cell_type": "markdown",
   "id": "4cfba8ad-d655-4322-a218-b080533d5b61",
   "metadata": {},
   "source": [
    "In this section we import every packages that we need in this project."
   ]
  },
  {
   "cell_type": "code",
   "execution_count": 46,
   "id": "690e49e8-d558-459d-a682-18cfeba62f4f",
   "metadata": {},
   "outputs": [],
   "source": [
    "import numpy as np\n",
    "import matplotlib.pyplot as plt\n",
    "import tensorflow as tf\n",
    "from tensorflow.keras.layers.experimental.preprocessing import Normalization\n",
    "from tensorflow.keras.models import Sequential\n",
    "from tensorflow.keras.layers import Dense"
   ]
  },
  {
   "cell_type": "markdown",
   "id": "41ae18c3-443d-47b9-a096-7b917dac39ad",
   "metadata": {
    "jp-MarkdownHeadingCollapsed": true
   },
   "source": [
    "# 2. Data collection\n",
    "This section details the methods and sources used for collecting data on coffee roasting. It explains what data is needed and how it was gathered."
   ]
  },
  {
   "cell_type": "code",
   "execution_count": 47,
   "id": "a6a5276a-7bcd-4564-911a-692b3460ddb3",
   "metadata": {},
   "outputs": [],
   "source": [
    "def load_coffee_data():\n",
    "    rng = np.random.default_rng(2)\n",
    "    X = rng.random(400).reshape(-1,2)\n",
    "    X[:,1] = X[:,1] * 4 + 11.5          # 12-15 min is best\n",
    "    X[:,0] = X[:,0] * (285-150) + 150  # 350-500 F (175-260 C) is best\n",
    "    Y = np.zeros(len(X))\n",
    "    \n",
    "    i=0\n",
    "    for t,d in X:\n",
    "        y = -3/(260-175)*t + 21\n",
    "        if (t > 175 and t < 260 and d > 12 and d < 15 and d<=y ):\n",
    "            Y[i] = 1\n",
    "        else:\n",
    "            Y[i] = 0\n",
    "        i += 1\n",
    "\n",
    "    return (X, Y.reshape(-1,1))\n"
   ]
  },
  {
   "cell_type": "code",
   "execution_count": 48,
   "id": "8c93d039-5583-4f52-a840-405f4d22c106",
   "metadata": {
    "scrolled": true
   },
   "outputs": [
    {
     "name": "stdout",
     "output_type": "stream",
     "text": [
      "(200, 2) (200, 1)\n",
      "[[185.31763812  12.69396457]\n",
      " [259.92047498  11.86766377]\n",
      " [231.01357101  14.41424211]\n",
      " [175.3666449   11.72058651]\n",
      " [187.12086467  14.12973206]\n",
      " [225.90586448  12.10024905]\n",
      " [208.40515676  14.17718919]\n",
      " [207.07593089  14.0327376 ]\n",
      " [280.60385359  14.23225929]\n",
      " [202.86935247  12.24901028]\n",
      " [196.70468985  13.54426389]\n",
      " [270.31327028  14.60225577]\n",
      " [192.94979108  15.19686759]\n",
      " [213.57283453  14.27503537]\n",
      " [164.47298664  11.91817423]\n",
      " [177.25750542  15.03779869]\n",
      " [241.7745473   14.89694529]\n",
      " [236.99889634  13.12616959]\n",
      " [219.73805621  13.87377407]\n",
      " [266.38592796  13.25274466]\n",
      " [270.45241485  13.95486775]\n",
      " [261.96307698  13.49222422]\n",
      " [243.4899478   12.8561015 ]\n",
      " [220.58184803  12.36489356]\n",
      " [163.59498627  11.65441652]\n",
      " [244.76317931  13.32572248]\n",
      " [271.19410986  14.84073282]\n",
      " [201.98784315  15.39471508]\n",
      " [229.9283715   14.56353326]\n",
      " [204.97123839  12.28467965]\n",
      " [173.18989704  12.2248249 ]\n",
      " [231.51374483  11.95053142]\n",
      " [152.68795109  14.83198786]\n",
      " [163.42050092  13.30233814]\n",
      " [215.94730737  13.98108963]\n",
      " [218.04195512  15.24937257]\n",
      " [251.30354024  13.79786599]\n",
      " [233.33173846  13.52620597]\n",
      " [280.2428442   12.40650425]\n",
      " [243.01866352  13.72038672]\n",
      " [155.67159152  12.6846    ]\n",
      " [275.16753628  14.63825943]\n",
      " [151.73219763  12.68650532]\n",
      " [151.32372212  14.80986777]\n",
      " [164.89962496  11.72982072]\n",
      " [282.55425133  13.28347952]\n",
      " [192.98305487  11.69605356]\n",
      " [202.59536338  12.96415623]\n",
      " [220.66990639  11.52714187]\n",
      " [169.97498884  12.3395461 ]\n",
      " [209.46811003  12.70921347]\n",
      " [232.79923633  12.64173042]\n",
      " [272.80045636  15.34747983]\n",
      " [158.02370683  12.33623888]\n",
      " [226.00812974  14.58264092]\n",
      " [158.64327123  12.23921074]\n",
      " [211.65721643  14.17476303]\n",
      " [271.94927014  14.96789185]\n",
      " [257.15698108  11.71092857]\n",
      " [281.84592659  13.9585118 ]\n",
      " [161.62563505  12.5197151 ]\n",
      " [233.80180142  13.04256047]\n",
      " [210.29146919  14.71834026]\n",
      " [261.24418195  13.68714792]\n",
      " [256.98089905  13.12401972]\n",
      " [281.55504804  13.92063666]\n",
      " [280.63922766  11.67595077]\n",
      " [269.16350813  13.73750875]\n",
      " [246.34126918  12.2703799 ]\n",
      " [224.07333576  12.6571117 ]\n",
      " [164.23986438  11.51274708]\n",
      " [272.42340268  14.18361726]\n",
      " [177.67793377  12.53127471]\n",
      " [212.85523206  14.77314901]\n",
      " [165.87945639  15.37113932]\n",
      " [277.42795347  12.47864038]\n",
      " [236.50555103  12.94039013]\n",
      " [244.13865151  11.8476644 ]\n",
      " [213.44539383  13.85396321]\n",
      " [234.57422435  14.2711819 ]\n",
      " [270.33648536  12.46500084]\n",
      " [170.68123284  13.06242775]\n",
      " [226.79179994  15.34211504]\n",
      " [245.91825406  14.4537702 ]\n",
      " [281.31680226  12.57097265]\n",
      " [185.02731945  13.19016335]\n",
      " [189.881701    14.10441354]\n",
      " [278.48137931  12.11404597]\n",
      " [219.9229371   14.2103124 ]\n",
      " [216.57898499  15.15497536]\n",
      " [249.48122814  15.02870718]\n",
      " [165.0882734   12.28305401]\n",
      " [158.87007046  14.81727799]\n",
      " [279.98051934  11.55596408]\n",
      " [256.54924192  14.41132479]\n",
      " [272.60521724  12.58154189]\n",
      " [246.49491975  12.44969153]\n",
      " [160.26448201  14.48081625]\n",
      " [155.69875114  14.29837785]\n",
      " [188.26743273  13.44969358]\n",
      " [270.35697577  12.47363152]\n",
      " [213.22379155  12.92019779]\n",
      " [175.70141973  13.39460587]\n",
      " [174.52009415  14.69602997]\n",
      " [233.00092162  12.63252301]\n",
      " [281.36917436  12.88110738]\n",
      " [240.61964926  14.43289491]\n",
      " [185.80556267  11.54705521]\n",
      " [270.50314335  15.32566605]\n",
      " [172.98079126  12.11442084]\n",
      " [208.41010162  13.89027827]\n",
      " [283.51265469  15.35398447]\n",
      " [283.36013339  12.48227766]\n",
      " [230.84923224  13.24347657]\n",
      " [181.23930992  11.76150948]\n",
      " [172.77833046  12.93380692]\n",
      " [161.88293361  12.10295597]\n",
      " [156.0279505   13.99162509]\n",
      " [216.51672478  12.47421201]\n",
      " [221.05707984  13.19778711]\n",
      " [238.9856852   15.23066888]\n",
      " [197.69443437  14.08060613]\n",
      " [179.55375966  15.2595976 ]\n",
      " [233.38848487  12.13498975]\n",
      " [184.70189322  12.13660544]\n",
      " [174.18309465  12.72719543]\n",
      " [261.11450983  13.32823521]\n",
      " [187.41794561  13.17630344]\n",
      " [186.09876106  14.43472966]\n",
      " [157.93546835  12.65691424]\n",
      " [193.6382219   12.22607807]\n",
      " [249.65103076  12.22098945]\n",
      " [190.56498132  11.72590625]\n",
      " [252.00406102  12.95545207]\n",
      " [238.55033302  12.36894441]\n",
      " [152.94302629  12.78967263]\n",
      " [255.17362013  14.84978312]\n",
      " [197.09336712  14.88776311]\n",
      " [156.79710499  13.58845814]\n",
      " [184.7520262   13.25631075]\n",
      " [179.92164592  15.07426649]\n",
      " [190.79357984  15.28116771]\n",
      " [164.72717415  13.21932402]\n",
      " [209.86506596  14.33773917]\n",
      " [196.57800642  13.46997985]\n",
      " [159.51062317  12.74412583]\n",
      " [247.87288291  11.92364557]\n",
      " [212.44231569  12.44690782]\n",
      " [172.34040752  11.98526205]\n",
      " [259.8719002   14.24662808]\n",
      " [201.22657354  13.06656377]\n",
      " [248.34175919  13.9158246 ]\n",
      " [273.66206058  15.17765474]\n",
      " [215.09358488  14.13654103]\n",
      " [223.53014138  12.74114217]\n",
      " [211.22431235  14.38470346]\n",
      " [224.61209061  14.02962547]\n",
      " [215.7548952   15.31191057]\n",
      " [254.8222958   12.02314013]\n",
      " [259.90478358  15.17031031]\n",
      " [260.24885577  12.87243299]\n",
      " [199.6677145   12.47285748]\n",
      " [157.52013585  13.38824538]\n",
      " [264.8148241   14.57524634]\n",
      " [239.39685171  14.88876268]\n",
      " [238.98037311  12.39333366]\n",
      " [258.42593537  12.97008002]\n",
      " [270.15836599  12.80593012]\n",
      " [162.40676333  14.41959278]\n",
      " [164.53231154  14.98085772]\n",
      " [205.6096794   14.6204848 ]\n",
      " [157.09674149  13.67535103]\n",
      " [241.38069604  12.01802052]\n",
      " [232.13370589  12.07209046]\n",
      " [191.03853216  12.96114082]\n",
      " [233.644025    12.02047538]\n",
      " [174.9514637   14.62502635]\n",
      " [246.64321151  13.31682268]\n",
      " [188.07040705  14.26881857]\n",
      " [213.15899445  12.74607869]\n",
      " [268.08223648  12.30736127]\n",
      " [258.57818535  13.97127162]\n",
      " [237.20731698  14.22860981]\n",
      " [251.01659085  15.02378838]\n",
      " [274.27882002  12.52195619]\n",
      " [172.12463765  15.08549633]\n",
      " [177.51695425  12.38785975]\n",
      " [258.70969379  15.36444235]\n",
      " [264.01362166  13.56692157]\n",
      " [200.7060497   15.45420693]\n",
      " [249.36929914  14.01637408]\n",
      " [151.50238376  12.28076712]\n",
      " [151.82138896  15.12816166]\n",
      " [181.92285734  12.18408524]\n",
      " [228.64664273  12.31240743]\n",
      " [223.78183257  15.2991668 ]\n",
      " [266.62767329  12.48051014]\n",
      " [273.68398195  13.09756176]\n",
      " [220.61000617  12.7998907 ]\n",
      " [284.99434167  12.72829382]]\n",
      "[[1.]\n",
      " [0.]\n",
      " [0.]\n",
      " [0.]\n",
      " [1.]\n",
      " [1.]\n",
      " [0.]\n",
      " [0.]\n",
      " [0.]\n",
      " [1.]\n",
      " [1.]\n",
      " [0.]\n",
      " [0.]\n",
      " [0.]\n",
      " [0.]\n",
      " [0.]\n",
      " [0.]\n",
      " [0.]\n",
      " [0.]\n",
      " [0.]\n",
      " [0.]\n",
      " [0.]\n",
      " [0.]\n",
      " [1.]\n",
      " [0.]\n",
      " [0.]\n",
      " [0.]\n",
      " [0.]\n",
      " [0.]\n",
      " [1.]\n",
      " [0.]\n",
      " [0.]\n",
      " [0.]\n",
      " [0.]\n",
      " [0.]\n",
      " [0.]\n",
      " [0.]\n",
      " [0.]\n",
      " [0.]\n",
      " [0.]\n",
      " [0.]\n",
      " [0.]\n",
      " [0.]\n",
      " [0.]\n",
      " [0.]\n",
      " [0.]\n",
      " [0.]\n",
      " [1.]\n",
      " [0.]\n",
      " [0.]\n",
      " [1.]\n",
      " [1.]\n",
      " [0.]\n",
      " [0.]\n",
      " [0.]\n",
      " [0.]\n",
      " [0.]\n",
      " [0.]\n",
      " [0.]\n",
      " [0.]\n",
      " [0.]\n",
      " [0.]\n",
      " [0.]\n",
      " [0.]\n",
      " [0.]\n",
      " [0.]\n",
      " [0.]\n",
      " [0.]\n",
      " [1.]\n",
      " [1.]\n",
      " [0.]\n",
      " [0.]\n",
      " [1.]\n",
      " [0.]\n",
      " [0.]\n",
      " [0.]\n",
      " [0.]\n",
      " [0.]\n",
      " [0.]\n",
      " [0.]\n",
      " [0.]\n",
      " [0.]\n",
      " [0.]\n",
      " [0.]\n",
      " [0.]\n",
      " [1.]\n",
      " [1.]\n",
      " [0.]\n",
      " [0.]\n",
      " [0.]\n",
      " [0.]\n",
      " [0.]\n",
      " [0.]\n",
      " [0.]\n",
      " [0.]\n",
      " [0.]\n",
      " [0.]\n",
      " [0.]\n",
      " [0.]\n",
      " [1.]\n",
      " [0.]\n",
      " [1.]\n",
      " [1.]\n",
      " [0.]\n",
      " [1.]\n",
      " [0.]\n",
      " [0.]\n",
      " [0.]\n",
      " [0.]\n",
      " [0.]\n",
      " [0.]\n",
      " [0.]\n",
      " [0.]\n",
      " [0.]\n",
      " [0.]\n",
      " [0.]\n",
      " [0.]\n",
      " [0.]\n",
      " [1.]\n",
      " [1.]\n",
      " [0.]\n",
      " [0.]\n",
      " [0.]\n",
      " [1.]\n",
      " [1.]\n",
      " [0.]\n",
      " [0.]\n",
      " [1.]\n",
      " [0.]\n",
      " [0.]\n",
      " [1.]\n",
      " [0.]\n",
      " [0.]\n",
      " [0.]\n",
      " [1.]\n",
      " [0.]\n",
      " [0.]\n",
      " [0.]\n",
      " [0.]\n",
      " [1.]\n",
      " [0.]\n",
      " [0.]\n",
      " [0.]\n",
      " [0.]\n",
      " [1.]\n",
      " [0.]\n",
      " [0.]\n",
      " [1.]\n",
      " [0.]\n",
      " [0.]\n",
      " [1.]\n",
      " [0.]\n",
      " [0.]\n",
      " [0.]\n",
      " [1.]\n",
      " [0.]\n",
      " [0.]\n",
      " [0.]\n",
      " [0.]\n",
      " [0.]\n",
      " [0.]\n",
      " [1.]\n",
      " [0.]\n",
      " [0.]\n",
      " [0.]\n",
      " [1.]\n",
      " [0.]\n",
      " [0.]\n",
      " [0.]\n",
      " [0.]\n",
      " [0.]\n",
      " [0.]\n",
      " [1.]\n",
      " [1.]\n",
      " [1.]\n",
      " [1.]\n",
      " [0.]\n",
      " [0.]\n",
      " [1.]\n",
      " [1.]\n",
      " [0.]\n",
      " [0.]\n",
      " [0.]\n",
      " [0.]\n",
      " [0.]\n",
      " [0.]\n",
      " [1.]\n",
      " [0.]\n",
      " [0.]\n",
      " [0.]\n",
      " [0.]\n",
      " [0.]\n",
      " [0.]\n",
      " [1.]\n",
      " [1.]\n",
      " [0.]\n",
      " [0.]\n",
      " [0.]\n",
      " [1.]\n",
      " [0.]]\n"
     ]
    }
   ],
   "source": [
    "X, Y = load_coffee_data();\n",
    "print(X.shape, Y.shape)\n",
    "print(X)\n",
    "print(Y)"
   ]
  },
  {
   "cell_type": "markdown",
   "id": "47a1baf2-fe96-4ed2-b545-53e223f0a0b2",
   "metadata": {
    "jp-MarkdownHeadingCollapsed": true
   },
   "source": [
    "# 3. Data Preprocessing\n",
    "This section covers the steps taken to clean and prepare the data for analysis. It includes handling missing values, normalizing data, and any other preprocessing steps necessary to ensure the data is ready for deep learning."
   ]
  },
  {
   "cell_type": "code",
   "execution_count": 49,
   "id": "b8d5f367-fc00-4c01-b572-5a5b504d9e1f",
   "metadata": {},
   "outputs": [
    {
     "data": {
      "image/png": "[encoded data removed]",
      "text/plain": [
       "<Figure size 640x480 with 1 Axes>"
      ]
     },
     "metadata": {},
     "output_type": "display_data"
    }
   ],
   "source": [
    "dlc = dict(dlblue = '#0096ff', dlorange = '#FF9300', dldarkred='#C00000', dlmagenta='#FF40FF', dlpurple='#7030A0', dldarkblue =  '#0D5BDC')\n",
    "def plotData(X, Y):\n",
    "    Y = Y.reshape(-1,)\n",
    "    colormap = np.array(['r', 'b'])\n",
    "    fig, ax = plt.subplots(1,1,)\n",
    "    ax.scatter(X[Y==1,0],X[Y==1,1], s=70, marker='x', c='red', label=\"Good Roast\" )\n",
    "    ax.scatter(X[Y==0,0],X[Y==0,1], s=100, marker='o', facecolors='none', \n",
    "                   edgecolors=dlc[\"dldarkblue\"],linewidth=1,  label=\"Bad Roast\")\n",
    "    tr = np.linspace(175,260,50)\n",
    "    ax.plot(tr, (-3/85) * tr + 21, color=dlc[\"dlpurple\"],linewidth=1)\n",
    "    ax.axhline(y=12,color=dlc[\"dlpurple\"],linewidth=1)\n",
    "    ax.axvline(x=175,color=dlc[\"dlpurple\"],linewidth=1)\n",
    "    ax.set_title(f\"Coffee Roasting\", size=16)\n",
    "    ax.set_xlabel(\"Temperature \\n(Celsius)\",size=12)\n",
    "    ax.set_ylabel(\"Duration \\n(minutes)\",size=12)\n",
    "    ax.legend(loc='upper right')\n",
    "    plt.show()\n",
    "plotData(X, Y)"
   ]
  },
  {
   "cell_type": "markdown",
   "id": "f6542cfc-c6bd-4108-bb58-c4d6ea650409",
   "metadata": {
    "jp-MarkdownHeadingCollapsed": true
   },
   "source": [
    "# 4. Data Normalization\n",
    "\n",
    "<div style=\"text-align: center;\">\n",
    "    <img src=\"images/Data_Normalization.jpg\" style=\"width:650px;height:400px;\">\n",
    "</div>\n",
    "\n",
    "\n",
    "Fitting the model's weights to the data (a process known as back-propagation, which will be covered in next week's lectures) is more efficient if the data is normalized. This is the same procedure used in Course 1, where features in the data are each normalized to have a similar range.\n",
    "\n",
    "The procedure below uses a Keras [Normalization Layer](https://keras.io/api/layers/preprocessing_layers/numerical/normalization/). The steps involved are:\n",
    "\n",
    "1. **Create a Normalization Layer**: This layer is not part of the model architecture but is used to preprocess the data.\n",
    "2. **Adapt the Data**: The normalization layer learns the mean and variance of the dataset and stores these values internally.\n",
    "3. **Normalize the Data**: The data is transformed based on the learned mean and variance.\n",
    "\n",
    "It is crucial to apply the same normalization to any future data that uses the learned model to ensure consistency and accuracy."
   ]
  },
  {
   "cell_type": "code",
   "execution_count": 64,
   "id": "a896a192-ad80-4a36-af15-d0db584f0f73",
   "metadata": {},
   "outputs": [
    {
     "name": "stdout",
     "output_type": "stream",
     "text": [
      "Temperature Max, Min befor normalization: 284.99, 151.32\n",
      "Duration    Max, Min befor normalization: 15.45, 11.51\n",
      "Temperature Max, Min after normalization: 1.66, -1.69\n",
      "Duration    Max, Min after normalization: 1.79, -1.70\n"
     ]
    }
   ],
   "source": [
    "print(f\"Temperature Max, Min befor normalization: {np.max(X[:,0]):0.2f}, {np.min(X[:,0]):0.2f}\")\n",
    "print(f\"Duration    Max, Min befor normalization: {np.max(X[:,1]):0.2f}, {np.min(X[:,1]):0.2f}\")\n",
    "norm_l = tf.keras.layers.experimental.preprocessing.Normalization(axis=-1)\n",
    "norm_l.adapt(X)  # learns mean, variance\n",
    "X_norm = norm_l(X)\n",
    "print(f\"Temperature Max, Min after normalization: {np.max(Xn[:,0]):0.2f}, {np.min(Xn[:,0]):0.2f}\")\n",
    "print(f\"Duration    Max, Min after normalization: {np.max(Xn[:,1]):0.2f}, {np.min(Xn[:,1]):0.2f}\")"
   ]
  },
  {
   "cell_type": "markdown",
   "id": "c33a4576-8138-42d3-994d-9db02788cc22",
   "metadata": {
    "jp-MarkdownHeadingCollapsed": true
   },
   "source": [
    "# 5. Data Augmentation\n",
    "\n",
    "<div style=\"text-align: center;\">\n",
    "    <img src=\"images/Data_Augmentation.jpg\" style=\"width:650px;height:400px;\">\n",
    "</div>\n",
    "\n",
    "\n",
    "To enhance the training process, we can tile (or duplicate) our data to increase the training set size. This augmentation helps in improving the model's performance and can reduce the number of training epochs required. By expanding the dataset, the model is exposed to more variations of the data, which aids in better generalization and learning.\n",
    "\n",
    "The steps involved in data augmentation are:\n",
    "\n",
    "1. **Tile the Data**: Duplicate the dataset to artificially increase its size.\n",
    "2. **Randomize the Data**: Shuffle the data to ensure the model sees different variations in each epoch.\n",
    "\n",
    "By augmenting the data, we can effectively train the model more efficiently and achieve better performance with fewer training epochs."
   ]
  },
  {
   "cell_type": "code",
   "execution_count": 51,
   "id": "f88925c5-c45d-4789-9b4b-b97a515727e8",
   "metadata": {},
   "outputs": [
    {
     "name": "stdout",
     "output_type": "stream",
     "text": [
      "(200000, 2) (200000, 1)\n"
     ]
    }
   ],
   "source": [
    "X_traning = np.tile(X_norm,(1000,1))\n",
    "Y_traning = np.tile(Y,(1000,1))   \n",
    "print(Xt.shape, Yt.shape)   "
   ]
  },
  {
   "cell_type": "markdown",
   "id": "41f5ed88-e9c6-4adc-8c1e-4ad9c1e2e8a8",
   "metadata": {
    "jp-MarkdownHeadingCollapsed": true
   },
   "source": [
    "# 6. Tensorflow Model"
   ]
  },
  {
   "cell_type": "markdown",
   "id": "fcfe3b04-067d-431b-9b53-ac42a25f423f",
   "metadata": {},
   "source": [
    "### 6.1 Model\n",
    "\n",
    "<div style=\"text-align: center;\">\n",
    "    <img src=\"images/Model.jpg\" style=\"width:650px;height:400px;\">\n",
    "</div>\n",
    "\n",
    "\n",
    "By using sigmoid activation functions, the network can learn non-linear relationships in the data, which is essential for accurately modeling the coffee roasting process."
   ]
  },
  {
   "cell_type": "code",
   "execution_count": 52,
   "id": "d26bc4d7-b25a-43c0-8f4e-c330f1657369",
   "metadata": {},
   "outputs": [],
   "source": [
    "tf.random.set_seed(1234)  # applied to achieve consistent results\n",
    "model = Sequential(\n",
    "    [\n",
    "        tf.keras.Input(shape=(2,)),\n",
    "        Dense(3, activation='sigmoid', name = 'layer1'),\n",
    "        Dense(1, activation='sigmoid', name = 'layer2')\n",
    "     ]\n",
    ")"
   ]
  },
  {
   "cell_type": "markdown",
   "id": "858fc442-4cdd-40be-9d25-96bb88b03900",
   "metadata": {},
   "source": [
    "<div style=\"text-align: center;\">\n",
    "    <img src=\"images/Notes_on_input.jpg\" style=\"width:650px;height:400px;\">\n",
    "</div>\n",
    "\n",
    "\n",
    ">**Note 1:** The `tf.keras.Input(shape=(2,))` specifies the expected shape of the input. This allows TensorFlow to size the weights and bias parameters at this point, which is useful when exploring TensorFlow models. In practice, this statement can be omitted, and TensorFlow will size the network parameters when the input data is specified in the `model.fit` statement.\n",
    ">\n",
    ">**Note 2:** Including the sigmoid activation in the final layer is not considered best practice. Instead, this should be accounted for in the loss function, which improves numerical stability. This concept will be described in more detail in a later lab.\n",
    "\n",
    "The `model.summary()` function provides a description of the network architecture:"
   ]
  },
  {
   "cell_type": "code",
   "execution_count": 65,
   "id": "98986574-e329-4329-a2ba-9c61c59057e3",
   "metadata": {},
   "outputs": [
    {
     "name": "stdout",
     "output_type": "stream",
     "text": [
      "Model: \"sequential_2\"\n",
      "_________________________________________________________________\n",
      "Layer (type)                 Output Shape              Param #   \n",
      "=================================================================\n",
      "layer1 (Dense)               (None, 3)                 9         \n",
      "_________________________________________________________________\n",
      "layer2 (Dense)               (None, 1)                 4         \n",
      "=================================================================\n",
      "Total params: 13\n",
      "Trainable params: 13\n",
      "Non-trainable params: 0\n",
      "_________________________________________________________________\n"
     ]
    }
   ],
   "source": [
    "model.summary()"
   ]
  },
  {
   "cell_type": "code",
   "execution_count": 58,
   "id": "74c3c297-e60a-4237-be47-f7e248a959e7",
   "metadata": {},
   "outputs": [
    {
     "name": "stdout",
     "output_type": "stream",
     "text": [
      "W1(2, 3):\n",
      " [[ -0.1267323   14.29598    -11.096129  ]\n",
      " [ -8.916388    11.853633    -0.25224006]] \n",
      "b1(3,): [-11.162907    1.7599316 -12.097754 ]\n",
      "W2(3, 1):\n",
      " [[-45.710297]\n",
      " [-42.94522 ]\n",
      " [-50.189865]] \n",
      "b2(1,): [26.144812]\n"
     ]
    }
   ],
   "source": [
    "W1, b1 = model.get_layer(\"layer1\").get_weights()\n",
    "W2, b2 = model.get_layer(\"layer2\").get_weights()\n",
    "print(f\"W1{W1.shape}:\\n\", W1, f\"\\nb1{b1.shape}:\", b1)\n",
    "print(f\"W2{W2.shape}:\\n\", W2, f\"\\nb2{b2.shape}:\", b2)"
   ]
  },
  {
   "cell_type": "markdown",
   "id": "20c3672c-b05a-40bd-b942-562d2eeecd90",
   "metadata": {},
   "source": [
    "### 6.2 Train the Model\n",
    "- The `model.compile` statement defines the loss function and specifies the optimization algorithm to be used.\n",
    "- The `model.fit` statement runs gradient descent and fits the model weights to the data."
   ]
  },
  {
   "cell_type": "code",
   "execution_count": 59,
   "id": "bb260b7e-94a3-4879-8bc6-770c51a45edb",
   "metadata": {},
   "outputs": [
    {
     "name": "stdout",
     "output_type": "stream",
     "text": [
      "Epoch 1/10\n",
      "6250/6250 [==============================] - 2s 365us/step - loss: 0.0016\n",
      "Epoch 2/10\n",
      "6250/6250 [==============================] - 2s 363us/step - loss: 0.0012\n",
      "Epoch 3/10\n",
      "6250/6250 [==============================] - 2s 361us/step - loss: 9.1039e-04\n",
      "Epoch 4/10\n",
      "6250/6250 [==============================] - 2s 365us/step - loss: 7.1239e-04\n",
      "Epoch 5/10\n",
      "6250/6250 [==============================] - 2s 362us/step - loss: 5.6308e-04\n",
      "Epoch 6/10\n",
      "6250/6250 [==============================] - 2s 371us/step - loss: 4.4542e-04\n",
      "Epoch 7/10\n",
      "6250/6250 [==============================] - 2s 378us/step - loss: 3.5220e-04\n",
      "Epoch 8/10\n",
      "6250/6250 [==============================] - 2s 366us/step - loss: 3.0394e-04\n",
      "Epoch 9/10\n",
      "6250/6250 [==============================] - 2s 362us/step - loss: 2.2889e-04\n",
      "Epoch 10/10\n",
      "6250/6250 [==============================] - 2s 376us/step - loss: 2.5902e-04\n"
     ]
    },
    {
     "data": {
      "text/plain": [
       "<tensorflow.python.keras.callbacks.History at 0x252e76530d0>"
      ]
     },
     "execution_count": 59,
     "metadata": {},
     "output_type": "execute_result"
    }
   ],
   "source": [
    "model.compile(\n",
    "    loss = tf.keras.losses.BinaryCrossentropy(),\n",
    "    optimizer = tf.keras.optimizers.Adam(learning_rate=0.01),\n",
    ")\n",
    "\n",
    "model.fit(\n",
    "    X_training,Y_training,            \n",
    "    epochs=10,\n",
    ")"
   ]
  },
  {
   "cell_type": "markdown",
   "id": "6cf46420-87c1-4c9c-b005-9f9cb6f47022",
   "metadata": {},
   "source": [
    "### 6.3 Updated Weights\n",
    "After fitting, the weights have been updated: "
   ]
  },
  {
   "cell_type": "code",
   "execution_count": 60,
   "id": "1edcee58-69c4-43da-be4f-f4e297441e84",
   "metadata": {},
   "outputs": [
    {
     "name": "stdout",
     "output_type": "stream",
     "text": [
      "W1:\n",
      " [[ -0.2068252  16.477915  -12.206357 ]\n",
      " [ -9.502068   13.669212   -0.2753223]] \n",
      "b1: [-11.730425    2.3075454 -13.142027 ]\n",
      "W2:\n",
      " [[-76.21513 ]\n",
      " [-65.998436]\n",
      " [-80.354034]] \n",
      "b2: [45.515884]\n"
     ]
    }
   ],
   "source": [
    "W1, b1 = model.get_layer(\"layer1\").get_weights()\n",
    "W2, b2 = model.get_layer(\"layer2\").get_weights()\n",
    "print(\"W1:\\n\", W1, \"\\nb1:\", b1)\n",
    "print(\"W2:\\n\", W2, \"\\nb2:\", b2)"
   ]
  },
  {
   "cell_type": "markdown",
   "id": "2c1548d4-693d-4bb9-8a9e-a16dd38b5879",
   "metadata": {},
   "source": [
    "### 6.4 Predictions\n",
    "Once you have a trained model, you can use it to make predictions. Recall that the output of our model is a probability. In this case, it represents the probability of a good roast. To make a decision, you must compare the probability to a threshold. In this case, we will use a threshold of 0.5."
   ]
  },
  {
   "cell_type": "markdown",
   "id": "4daa23ef-54f4-48f0-b1a6-b064c3be9e81",
   "metadata": {},
   "source": [
    "<div style=\"text-align: center;\">\n",
    "    <img src=\"images/Creating_input.jpg\" style=\"width:650px;height:400px;\">\n",
    "</div>\n",
    "\n",
    "Let's start by creating the input data. The model expects one or more examples where examples are in the rows of the matrix. In this case, we have two features, so the matrix will be of shape (m, 2), where m is the number of examples.\n",
    "\n",
    "Recall that we have normalized the input features, so we must normalize our test data as well.\n",
    "\n",
    "To make a prediction, you apply the `predict` method."
   ]
  },
  {
   "cell_type": "code",
   "execution_count": 61,
   "id": "2cea6ed9-275b-4596-880d-bbd11ddcf0a6",
   "metadata": {},
   "outputs": [
    {
     "name": "stdout",
     "output_type": "stream",
     "text": [
      "predictions = \n",
      " [[9.9951977e-01]\n",
      " [1.2472757e-09]]\n"
     ]
    }
   ],
   "source": [
    "X_test = np.array([\n",
    "    [200,13.9],  # postive example\n",
    "    [200,17]])   # negative example\n",
    "X_testn = norm_l(X_test)\n",
    "predictions = model.predict(X_testn)\n",
    "print(\"predictions = \\n\", predictions)"
   ]
  },
  {
   "cell_type": "code",
   "execution_count": 63,
   "id": "2045c88f-fe2e-449a-9a64-769a3ed25167",
   "metadata": {},
   "outputs": [
    {
     "name": "stdout",
     "output_type": "stream",
     "text": [
      "decisions = \n",
      "[[1.]\n",
      " [0.]]\n"
     ]
    }
   ],
   "source": [
    "yhat = np.zeros_like(predictions)\n",
    "for i in range(len(predictions)):\n",
    "    if predictions[i] >= 0.5:\n",
    "        yhat[i] = 1\n",
    "    else:\n",
    "        yhat[i] = 0\n",
    "print(f\"decisions = \\n{yhat}\")"
   ]
  },
  {
   "cell_type": "markdown",
   "id": "82b93576-4e54-4b71-88aa-fdd32866adc0",
   "metadata": {},
   "source": [
    "<div style=\"text-align: center;\">\n",
    "    <img src=\"images/Prediction.jpg\" style=\"width:650px;height:400px;\">\n",
    "</div>\n",
    "\n",
    "To convert the probabilities to a decision, we apply a threshold:"
   ]
  },
  {
   "cell_type": "code",
   "execution_count": 128,
   "id": "1861a6e1-71c4-454b-880c-9b5be6acbcdd",
   "metadata": {},
   "outputs": [
    {
     "name": "stdout",
     "output_type": "stream",
     "text": [
      "decisions = \n",
      "[[1.]\n",
      " [0.]]\n"
     ]
    }
   ],
   "source": [
    "yhat = np.zeros_like(predictions)\n",
    "for i in range(len(predictions)):\n",
    "    if predictions[i] >= 0.5:\n",
    "        yhat[i] = 1\n",
    "    else:\n",
    "        yhat[i] = 0\n",
    "print(f\"decisions = \\n{yhat}\")"
   ]
  }
 ],
 "metadata": {
  "kernelspec": {
   "display_name": "Python 3 (ipykernel)",
   "language": "python",
   "name": "python3"
  },
  "language_info": {
   "codemirror_mode": {
    "name": "ipython",
    "version": 3
   },
   "file_extension": ".py",
   "mimetype": "text/x-python",
   "name": "python",
   "nbconvert_exporter": "python",
   "pygments_lexer": "ipython3",
   "version": "3.8.19"
  }
 },
 "nbformat": 4,
 "nbformat_minor": 5
}
